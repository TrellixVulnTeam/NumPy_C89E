{
 "cells": [
  {
   "cell_type": "markdown",
   "metadata": {
    "collapsed": true,
    "pycharm": {
     "name": "#%% md\n"
    }
   },
   "source": [
    "### Mathematical expression with Numpy\n",
    "\n",
    "$MeanSquareError = \\frac{1}{n} \\Sigma_{i=1}^n(Y_{prediction_i} - Y_i)^2$\n",
    "-  error = (1/n) * np.sum(np.square(predictions - labels))\n"
   ]
  },
  {
   "cell_type": "code",
   "execution_count": 3,
   "outputs": [],
   "source": [
    "import numpy as np"
   ],
   "metadata": {
    "collapsed": false,
    "pycharm": {
     "name": "#%%\n"
    }
   }
  },
  {
   "cell_type": "code",
   "execution_count": 11,
   "outputs": [
    {
     "name": "stdout",
     "output_type": "stream",
     "text": [
      "[0 1 2 3]\n",
      "Substrcation : [20 29 38 47]\n",
      "Square of b: [0 1 4 9]\n",
      "Sin of a multiplied by 10: [ 9.12945251 -9.88031624  7.4511316  -2.62374854]\n",
      "less than 35 : [ True  True False False]\n"
     ]
    }
   ],
   "source": [
    "# Math Operations\n",
    "a = np.array([20,30,40,50])\n",
    "b = np.arange(4)\n",
    "print(b)\n",
    "c = a - b\n",
    "print('Substrcation :', c)\n",
    "print('Square of b:',b**2)\n",
    "print('Sin of a multiplied by 10:', 10*np.sin(a))\n",
    "print('less than 35 :', a<35)"
   ],
   "metadata": {
    "collapsed": false,
    "pycharm": {
     "name": "#%%\n"
    }
   }
  },
  {
   "cell_type": "code",
   "execution_count": 15,
   "outputs": [
    {
     "name": "stdout",
     "output_type": "stream",
     "text": [
      "Element wise Product : [[2 0]\n",
      " [0 4]]\n",
      "Matrix Product: [[5 4]\n",
      " [3 4]]\n",
      "Matrix Product: [[5 4]\n",
      " [3 4]]\n"
     ]
    }
   ],
   "source": [
    "A = np.array([[1,1],[0,1]])\n",
    "B = np.array([[2,0],[3,4]])\n",
    "print('Element wise Product :', A * B)\n",
    "print('Matrix Product:', A@B)\n",
    "print('Matrix Product:', A.dot(B))"
   ],
   "metadata": {
    "collapsed": false,
    "pycharm": {
     "name": "#%%\n"
    }
   }
  },
  {
   "cell_type": "code",
   "execution_count": 27,
   "outputs": [
    {
     "name": "stdout",
     "output_type": "stream",
     "text": [
      "[  0   1   8  27  64 125 216 343 512 729]\n",
      "[ 1  8 27 64]\n",
      "start to position 6 and set every 2nd element to 1000 [1000    1 1000   27 1000  125  216  343  512  729]\n",
      "Reversed [1000    1 1000   27 1000  125  216  343  512  729]\n"
     ]
    }
   ],
   "source": [
    "a = np.arange(10)**3\n",
    "print(a)\n",
    "print(a[1:5])\n",
    "a[:6:2] = 1000\n",
    "print('start to position 6 and set every 2nd element to 1000', a)\n",
    "a[ : :-1]\n",
    "print('Reversed',a)"
   ],
   "metadata": {
    "collapsed": false,
    "pycharm": {
     "name": "#%%\n"
    }
   }
  },
  {
   "cell_type": "code",
   "execution_count": 49,
   "outputs": [
    {
     "name": "stdout",
     "output_type": "stream",
     "text": [
      "[[0.51182162 0.9504637  0.14415961 0.94864945]\n",
      " [0.31183145 0.42332645 0.82770259 0.40919914]\n",
      " [0.54959369 0.02755911 0.75351311 0.53814331]\n",
      " [0.32973172 0.7884287  0.30319483 0.45349789]\n",
      " [0.1340417  0.40311299 0.20345524 0.26231334]]\n",
      "3rd Row and 4th Column : 0.5381433132192782\n",
      "2nd Column : [0.9504637  0.42332645 0.02755911 0.7884287  0.40311299]\n",
      "2nd and 3rd rows and all columns : [[0.31183145 0.42332645 0.82770259 0.40919914]\n",
      " [0.54959369 0.02755911 0.75351311 0.53814331]]\n",
      "last row [0.1340417  0.40311299 0.20345524 0.26231334]\n"
     ]
    }
   ],
   "source": [
    "rg = np.random.default_rng(1)\n",
    "b = rg.random((5,4))\n",
    "print(b)\n",
    "print('3rd Row and 4th Column :', b[2,3])\n",
    "print('2nd Column :',b[: ,1])\n",
    "print('2nd and 3rd rows and all columns :',b[1:3, :])\n",
    "print('last row', b[-1])"
   ],
   "metadata": {
    "collapsed": false,
    "pycharm": {
     "name": "#%%\n"
    }
   }
  },
  {
   "cell_type": "code",
   "execution_count": 58,
   "outputs": [
    {
     "name": "stdout",
     "output_type": "stream",
     "text": [
      "Array: [[3. 4. 6. 4.]\n",
      " [5. 8. 7. 3.]\n",
      " [4. 3. 1. 2.]]\n",
      "shape : (3, 4)\n",
      "Flattened array:  [3. 4. 6. 4. 5. 8. 7. 3. 4. 3. 1. 2.]\n",
      "Reshaped array:  [[3. 4.]\n",
      " [6. 4.]\n",
      " [5. 8.]\n",
      " [7. 3.]\n",
      " [4. 3.]\n",
      " [1. 2.]]\n",
      "Transposed array: [[3. 5. 4.]\n",
      " [4. 8. 3.]\n",
      " [6. 7. 1.]\n",
      " [4. 3. 2.]]\n"
     ]
    }
   ],
   "source": [
    "# Changing shape of an array\n",
    "a = np.floor(10*rg.random((3,4)))\n",
    "print('Array:', a)\n",
    "print('shape :', a.shape)\n",
    "print('Flattened array: ', a.ravel())\n",
    "print('Reshaped array: ', a.reshape(6,2))\n",
    "print('Transposed array:', a.T)"
   ],
   "metadata": {
    "collapsed": false,
    "pycharm": {
     "name": "#%%\n"
    }
   }
  }
 ],
 "metadata": {
  "kernelspec": {
   "name": "python38264bit5c21451e1d864d53a27be528a149d476",
   "language": "python",
   "display_name": "Python 3.8.2 64-bit"
  },
  "language_info": {
   "codemirror_mode": {
    "name": "ipython",
    "version": 2
   },
   "file_extension": ".py",
   "mimetype": "text/x-python",
   "name": "python",
   "nbconvert_exporter": "python",
   "pygments_lexer": "ipython2",
   "version": "2.7.6"
  }
 },
 "nbformat": 4,
 "nbformat_minor": 0
}