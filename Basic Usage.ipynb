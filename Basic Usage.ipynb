{
 "cells": [
  {
   "cell_type": "markdown",
   "metadata": {
    "collapsed": true,
    "pycharm": {
     "name": "#%% md\n"
    }
   },
   "source": [
    "##  NumPy\n",
    "- NumPy library contains multi-dimensional array and matrix data if structures\n",
    "- Package provides 'ndarray', a homogenous n-dimensional array object"
   ]
  },
  {
   "cell_type": "code",
   "execution_count": 1,
   "outputs": [],
   "source": [
    "import numpy as np"
   ],
   "metadata": {
    "collapsed": false,
    "pycharm": {
     "name": "#%%\n"
    }
   }
  },
  {
   "cell_type": "code",
   "execution_count": 2,
   "outputs": [
    {
     "name": "stdout",
     "output_type": "stream",
     "text": [
      "[0 1 2 3 4 5]\n",
      "[[0 1 2 3 4 5]]\n"
     ]
    },
    {
     "data": {
      "text/plain": "(1, 6)"
     },
     "execution_count": 2,
     "metadata": {},
     "output_type": "execute_result"
    }
   ],
   "source": [
    "a = np.arange(6)\n",
    "print(a)\n",
    "a2 = a[np.newaxis, :]\n",
    "print(a2)\n",
    "a2.shape"
   ],
   "metadata": {
    "collapsed": false,
    "pycharm": {
     "name": "#%%\n"
    }
   }
  },
  {
   "cell_type": "markdown",
   "source": [
    "### What is the difference betweeen python list and numpy array ?\n",
    "- NumPy gives ability to create arrays and manipulate numerical data inside them.\n",
    "- Python list can contain different data types with in a single list, all of the elements in a NumPy array should be homogenous.\n",
    "- Mathematical operations on array will only be efficient if array is homogenous.\n",
    "- Array consumes less memory\n",
    "\n",
    "#### Array:\n",
    "- Array is a central structure of NumPy library.\n",
    "- Elements of an array are all of same type (dtype)\n",
    "- Indexed by a tuple of non-negative integers, by boolean, by another array, or by integers\n",
    "- 'rank' of the array is the number of dimensions.\n",
    "- 'shape' of the array is a tupel of integers giving the size of the array along each dimension."
   ],
   "metadata": {
    "collapsed": false,
    "pycharm": {
     "name": "#%% md\n"
    }
   }
  },
  {
   "cell_type": "code",
   "execution_count": 3,
   "outputs": [
    {
     "name": "stdout",
     "output_type": "stream",
     "text": [
      "[1 2 3 4 5 6]\n",
      "[[ 1  2  3  4]\n",
      " [ 5  6  7  8]\n",
      " [ 9 10 11 12]]\n",
      "[1 2 3 4]\n"
     ]
    }
   ],
   "source": [
    "a = np.array([1,2,3,4,5,6])\n",
    "print(a) # Inspecting an array\n",
    "a2 = np.array([[1,2,3,4],[5,6,7,8],[9,10,11,12]])\n",
    "print(a2)  # Print Matrix\n",
    "print(a2[0]) # only first row"
   ],
   "metadata": {
    "collapsed": false,
    "pycharm": {
     "name": "#%%\n"
    }
   }
  },
  {
   "cell_type": "markdown",
   "source": [
    "- 'ndarray' is short hand for N-dimensional array\n",
    "- \"Vector\" is an array with a single dimension (no difference between rows and columns)\n",
    "- \"Matrix\" refers to an array with two dimensions\n",
    "- \"Tensor\" refers to an array with 3-D or higher dimensional arrays."
   ],
   "metadata": {
    "collapsed": false,
    "pycharm": {
     "name": "#%% md\n"
    }
   }
  },
  {
   "cell_type": "markdown",
   "source": [
    "#### Attributes of an array\n",
    "- Array is usually a fixed-size container of items of the same type and size.\n",
    "- The number of dimensions and items in an array is defined by its shape.\n",
    "- The shape of an array is a tuple of non-negative integers that specify the size of each dimension.\n",
    "  - 'axes' - are the dimensions of an array\n",
    "- 'attributes' reflect information intrinsic to the array itself"
   ],
   "metadata": {
    "collapsed": false,
    "pycharm": {
     "name": "#%% md\n"
    }
   }
  },
  {
   "cell_type": "code",
   "execution_count": 4,
   "outputs": [
    {
     "name": "stdout",
     "output_type": "stream",
     "text": [
      "[[0. 0. 0.]\n",
      " [1. 1. 1.]]\n",
      "(2, 3)\n"
     ]
    }
   ],
   "source": [
    "a = np.array([[0.,0.,0.],[1.,1.,1.]])\n",
    "print(a)\n",
    "print(a.shape)\n",
    "# In this: first axis has a length of '2' and the second axis has a length '3'."
   ],
   "metadata": {
    "collapsed": false,
    "pycharm": {
     "name": "#%%\n"
    }
   }
  },
  {
   "cell_type": "code",
   "execution_count": 5,
   "outputs": [
    {
     "name": "stdout",
     "output_type": "stream",
     "text": [
      "[1 2 3]\n",
      "[0. 0.]\n",
      "[1. 1.]\n",
      "[1. 1.]\n",
      "[0 1 2 3]\n",
      "[2 4 6 8]\n",
      "[ 0.   2.5  5.   7.5 10. ]\n",
      "[1 1]\n"
     ]
    }
   ],
   "source": [
    "# Create a basic array:\n",
    "## np.array(), np.zeros(), np.ones(), np.empty(), np.arange(),np.linespace(), dtype\n",
    "a = np.array([1,2,3])\n",
    "print(a)\n",
    "b = np.zeros(2)\n",
    "print(b)\n",
    "c = np.ones(2)\n",
    "print(c)\n",
    "d = np.empty(2)\n",
    "print(d)\n",
    "e = np.arange(4)\n",
    "print(e)\n",
    "# Create an array with first number, last number, step size\n",
    "f = np.arange(2,9,2)\n",
    "print(f)\n",
    "# Create an array with values that are spaced linearly in a specified interval.\n",
    "g = np.linspace(0,10, num = 5)\n",
    "print(g)\n",
    "# Specify data type - By default data type is a floating point (np,float64) we can explicitly specify dtypes.\n",
    "h = np.ones(2, dtype=np.int64)\n",
    "print(h)"
   ],
   "metadata": {
    "collapsed": false,
    "pycharm": {
     "name": "#%%\n"
    }
   }
  },
  {
   "cell_type": "code",
   "execution_count": 6,
   "outputs": [
    {
     "name": "stdout",
     "output_type": "stream",
     "text": [
      "[2 1 5 3 7 4 6 8]\n",
      "[1 2 3 4 5 6 7 8]\n",
      "[1 2 3 4]\n",
      "[5 6 7 8]\n",
      "[1 2 3 4 5 6 7 8]\n",
      "[[1 2]\n",
      " [3 4]\n",
      " [5 6]]\n"
     ]
    }
   ],
   "source": [
    "# Adding, removing and sorting elements\n",
    "## Sorting\n",
    "arr = np.array([2,1,5,3,7,4,6,8])\n",
    "print(arr)\n",
    "arr_sorted = np.sort(arr)\n",
    "print(arr_sorted)\n",
    "### Other sort methods\n",
    "# - argsort (indirect sort along a specified axis)\n",
    "# - lexsort (indirect stable sort on multiple keys)\n",
    "# - searchsorted (will find elements in a sorted array)\n",
    "# - partition (is a partial sort)\n",
    "\n",
    "## Concatenate arrays\n",
    "a = np.array([1,2,3,4])\n",
    "print(a)\n",
    "b = np.array([5,6,7,8])\n",
    "print(b)\n",
    "print(np.concatenate((a,b)))\n",
    "\n",
    "## Concatenate arrays with axis\n",
    "x = np.array([[1,2],[3,4]])\n",
    "y = np.array([[5,6]])\n",
    "print(np.concatenate((x,y), axis=0))"
   ],
   "metadata": {
    "collapsed": false,
    "pycharm": {
     "name": "#%%\n"
    }
   }
  },
  {
   "cell_type": "code",
   "execution_count": 7,
   "outputs": [
    {
     "name": "stdout",
     "output_type": "stream",
     "text": [
      "3\n",
      "24\n",
      "(3, 2, 4)\n"
     ]
    }
   ],
   "source": [
    "# Finding shape and size of an array:\n",
    "## ndarray.ndim, ndarray.size, ndarray.shape\n",
    "arr = np.array([[[0, 1, 2, 3],\n",
    "                          [4, 5, 6, 7]],\n",
    "\n",
    "                         [[0, 1, 2, 3],\n",
    "                          [4, 5, 6, 7]],\n",
    "\n",
    "                        [[0 ,1 ,2, 3],\n",
    "                          [4, 5, 6, 7]]])\n",
    "print(arr.ndim) # number of dimensions of the array\n",
    "print(arr.size) # Total number of elements in an array\n",
    "print(arr.shape) # Shape of the array"
   ],
   "metadata": {
    "collapsed": false,
    "pycharm": {
     "name": "#%%\n"
    }
   }
  },
  {
   "cell_type": "code",
   "execution_count": 8,
   "outputs": [
    {
     "name": "stdout",
     "output_type": "stream",
     "text": [
      "[0 1 2 3 4 5]\n",
      "[[0 1]\n",
      " [2 3]\n",
      " [4 5]]\n",
      "[[0 1 2 3 4 5]]\n"
     ]
    }
   ],
   "source": [
    "# Reshape an array\n",
    "## arr.reshape()\n",
    "## Note: When reshaping number of elements should not change\n",
    "a = np.arange(6)\n",
    "print(a)\n",
    "b = a.reshape(3,2) # reshaping an array with three rows and two columns\n",
    "print(b)\n",
    "c = np.reshape(a, newshape=(1,6), order='C')\n",
    "# 'newshape' shape should be compatible with original shape\n",
    "# Order is an optional parameter\n",
    "# order = 'C' read/write the elemensts using C-like index order\n",
    "# order = 'F' Fortran like index order\n",
    "# order = 'A' Fortran like index (only if contiguous in memory)\n",
    "print(c)\n"
   ],
   "metadata": {
    "collapsed": false,
    "pycharm": {
     "name": "#%%\n"
    }
   }
  }
 ],
 "metadata": {
  "kernelspec": {
   "name": "python38264bit5c21451e1d864d53a27be528a149d476",
   "language": "python",
   "display_name": "Python 3.8.2 64-bit"
  },
  "language_info": {
   "codemirror_mode": {
    "name": "ipython",
    "version": 2
   },
   "file_extension": ".py",
   "mimetype": "text/x-python",
   "name": "python",
   "nbconvert_exporter": "python",
   "pygments_lexer": "ipython2",
   "version": "2.7.6"
  }
 },
 "nbformat": 4,
 "nbformat_minor": 0
}