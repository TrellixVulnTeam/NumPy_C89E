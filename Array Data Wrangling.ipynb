{
 "cells": [
  {
   "cell_type": "code",
   "execution_count": 1,
   "metadata": {
    "collapsed": true
   },
   "outputs": [],
   "source": [
    "import numpy as np"
   ]
  },
  {
   "cell_type": "code",
   "execution_count": 3,
   "outputs": [
    {
     "name": "stdout",
     "output_type": "stream",
     "text": [
      "[11 12 13 14 15 16 17 18 19 20]\n"
     ]
    }
   ],
   "source": [
    "# Finding unique values\n",
    "a = np.array([11, 11, 12, 13, 14, 15, 16, 17, 12, 13, 11, 14, 18, 19, 20])\n",
    "unique_values = np.unique(a)\n",
    "print(unique_values)"
   ],
   "metadata": {
    "collapsed": false,
    "pycharm": {
     "name": "#%%\n"
    }
   }
  },
  {
   "cell_type": "code",
   "execution_count": 5,
   "outputs": [
    {
     "name": "stdout",
     "output_type": "stream",
     "text": [
      "[ 0  2  3  4  5  6  7 12 13 14]\n",
      "[11 12 13 14 15 16 17 18 19 20]\n"
     ]
    }
   ],
   "source": [
    "# Find first index positions of unique values\n",
    "unique_values, indices_list = np.unique(a, return_index=True)\n",
    "print(indices_list)\n",
    "print(unique_values)"
   ],
   "metadata": {
    "collapsed": false,
    "pycharm": {
     "name": "#%%\n"
    }
   }
  },
  {
   "cell_type": "code",
   "execution_count": 9,
   "outputs": [
    {
     "name": "stdout",
     "output_type": "stream",
     "text": [
      "[3 2 2 2 1 1 1 1 1 1]\n"
     ]
    }
   ],
   "source": [
    "# Frequency of occurance\n",
    "unique_values, occurrence_count = np.unique(a, return_counts=True)\n",
    "print(occurrence_count)"
   ],
   "metadata": {
    "collapsed": false,
    "pycharm": {
     "name": "#%%\n"
    }
   }
  },
  {
   "cell_type": "code",
   "execution_count": 13,
   "outputs": [
    {
     "name": "stdout",
     "output_type": "stream",
     "text": [
      "[[ 1  2  3  4]\n",
      " [ 5  6  7  8]\n",
      " [ 9 10 11 12]\n",
      " [ 1  2  3  4]]\n",
      "[ 1  2  3  4  5  6  7  8  9 10 11 12]\n",
      "[[ 1  2  3  4]\n",
      " [ 5  6  7  8]\n",
      " [ 9 10 11 12]]\n"
     ]
    }
   ],
   "source": [
    "# Working with 2D arrays\n",
    "a_2d = np.array([[1, 2, 3, 4], [5, 6, 7, 8], [9, 10, 11, 12], [1, 2, 3, 4]])\n",
    "print(a_2d)\n",
    "# Unique values\n",
    "unique_values = np.unique(a_2d)\n",
    "print(unique_values)\n",
    "# Unique rows\n",
    "unique_rows = np.unique(a_2d, axis=0)\n",
    "print(unique_rows)"
   ],
   "metadata": {
    "collapsed": false,
    "pycharm": {
     "name": "#%%\n"
    }
   }
  },
  {
   "cell_type": "code",
   "execution_count": 16,
   "outputs": [
    {
     "name": "stdout",
     "output_type": "stream",
     "text": [
      "[[ 1  2  3  4]\n",
      " [ 5  6  7  8]\n",
      " [ 9 10 11 12]]\n",
      "[0 1 2]\n",
      "[2 1 1]\n"
     ]
    }
   ],
   "source": [
    "# Combining all functions in one\n",
    "unique_rows, indices, occurrence_count = np.unique(\n",
    "    a_2d, axis=0, return_counts=True, return_index=True\n",
    ")\n",
    "print(unique_rows)\n",
    "print(indices)\n",
    "print(occurrence_count)"
   ],
   "metadata": {
    "collapsed": false,
    "pycharm": {
     "name": "#%%\n"
    }
   }
  },
  {
   "cell_type": "code",
   "execution_count": 20,
   "outputs": [
    {
     "name": "stdout",
     "output_type": "stream",
     "text": [
      "[[1 2]\n",
      " [3 4]\n",
      " [5 6]]\n",
      "[[1 2 3]\n",
      " [4 5 6]]\n",
      "[[1 2]\n",
      " [3 4]\n",
      " [5 6]]\n"
     ]
    }
   ],
   "source": [
    "# Transposing and reshaping the matrix\n",
    "## Functions: arr.reshape(), arr.transpose(), arr.T\n",
    "data = np.array([[1,2],[3,4],[5,6]])\n",
    "print(data)\n",
    "print(data.reshape(2,3)) # 2 rows and 3 columns\n",
    "print(data.reshape(3,2)) # 3 ro# ws and 2 columns"
   ],
   "metadata": {
    "collapsed": false,
    "pycharm": {
     "name": "#%%\n"
    }
   }
  },
  {
   "cell_type": "code",
   "execution_count": 28,
   "outputs": [
    {
     "name": "stdout",
     "output_type": "stream",
     "text": [
      "Array:  [[0 1 2]\n",
      " [3 4 5]]\n",
      "Transposed Array : [[0 3]\n",
      " [1 4]\n",
      " [2 5]]\n",
      "Transposed Array : [[0 3]\n",
      " [1 4]\n",
      " [2 5]]\n"
     ]
    }
   ],
   "source": [
    "arr = np.arange(6).reshape((2,3))\n",
    "print('Array: ', arr)\n",
    "print('Transposed Array :',arr.transpose())\n",
    "print('Transposed Array :',arr.T)"
   ],
   "metadata": {
    "collapsed": false,
    "pycharm": {
     "name": "#%%\n"
    }
   }
  },
  {
   "cell_type": "code",
   "execution_count": 37,
   "outputs": [
    {
     "name": "stdout",
     "output_type": "stream",
     "text": [
      "Reversed array : [8 7 6 5 4 3 2 1]\n",
      "2D Array : [[ 1  2  3  4]\n",
      " [ 5  6  7  8]\n",
      " [ 9 10 11 12]]\n",
      "Reversed 2D Array : [[12 11 10  9]\n",
      " [ 8  7  6  5]\n",
      " [ 4  3  2  1]]\n",
      "Reversed with rows : [[ 9 10 11 12]\n",
      " [ 5  6  7  8]\n",
      " [ 1  2  3  4]]\n",
      "Reversed with columns : [[ 4  3  2  1]\n",
      " [ 8  7  6  5]\n",
      " [12 11 10  9]]\n",
      "Only 2nd row is flipped : [[ 1  2  3  4]\n",
      " [ 8  7  6  5]\n",
      " [ 9 10 11 12]]\n",
      "Only 2nd column is flipped : [[ 1 10  3  4]\n",
      " [ 8  7  6  5]\n",
      " [ 9  2 11 12]]\n"
     ]
    }
   ],
   "source": [
    "# Flipping / Reversing an array along an axis\n",
    "# function: np.flip()\n",
    "# 1D Array\n",
    "arr = np.array([1,2,3,4,5,6,7,8])\n",
    "reversed_arr = np.flip(arr)\n",
    "print('Reversed array :', reversed_arr)\n",
    "\n",
    "#2D Array\n",
    "arr_2d = np.array([[1, 2, 3, 4], [5, 6, 7, 8], [9, 10, 11, 12]])\n",
    "print('2D Array :', arr_2d)\n",
    "reversed_arr_2d = np.flip(arr_2d)\n",
    "print('Reversed 2D Array :', reversed_arr_2d)\n",
    "reversed_arr_2d_rows = np.flip(arr_2d, axis=0)\n",
    "print('Reversed with rows :', reversed_arr_2d_rows)\n",
    "reversed_arr_2d_columns = np.flip(arr_2d, axis=1)\n",
    "print('Reversed with columns :', reversed_arr_2d_columns)\n",
    "## Reversing only one row by specifying index position\n",
    "arr_2d[1] = np.flip(arr_2d[1])\n",
    "print('Only 2nd row is flipped :', arr_2d)\n",
    "## Reversing only one column\n",
    "arr_2d[:,1] = np.flip(arr_2d[:,1])\n",
    "print('Only 2nd column is flipped :', arr_2d)"
   ],
   "metadata": {
    "collapsed": false,
    "pycharm": {
     "name": "#%%\n"
    }
   }
  },
  {
   "cell_type": "code",
   "execution_count": 47,
   "outputs": [
    {
     "name": "stdout",
     "output_type": "stream",
     "text": [
      "Array : [[ 1  2  3  4]\n",
      " [ 5  6  7  8]\n",
      " [ 9 10 11 12]]\n",
      "Flattened Array : [ 1  2  3  4  5  6  7  8  9 10 11 12]\n",
      "Array : [[ 1  2  3  4]\n",
      " [ 5  6  7  8]\n",
      " [ 9 10 11 12]]\n",
      "Flattened and replaced value 99 : [99  2  3  4  5  6  7  8  9 10 11 12]\n",
      "Array : [[98  2  3  4]\n",
      " [ 5  6  7  8]\n",
      " [ 9 10 11 12]]\n",
      "Flattned and replaced value 98 : [98  2  3  4  5  6  7  8  9 10 11 12]\n",
      "Parent Array Change : [[98  2  3  4]\n",
      " [ 5  6  7  8]\n",
      " [ 9 10 11 12]]\n"
     ]
    }
   ],
   "source": [
    "# Reshaping and flattening multidimensional arrays\n",
    "## Functions: .flatten(), .ravel()\n",
    "## revel() is a reference to the parent array\n",
    "## Any changes to the new array will affect the parent array as well\n",
    "x = np.array([[1 , 2, 3, 4], [5, 6, 7, 8], [9, 10, 11, 12]])\n",
    "print('Array :', x)\n",
    "print('Flattened Array :', x.flatten())\n",
    "\n",
    "# Changing value of a1\n",
    "a1 = x.flatten()\n",
    "a1[0] = 99\n",
    "print('Array :', x)\n",
    "print('Flattened and replaced value 99 :', a1)\n",
    "\n",
    "# Using ravel\n",
    "a2 = x.ravel()\n",
    "a2[0] = 98\n",
    "print('Array :', x)\n",
    "print('Flattened and replaced value 98 :', a2)\n",
    "print('Parent Array Change :', x)"
   ],
   "metadata": {
    "collapsed": false,
    "pycharm": {
     "name": "#%%\n"
    }
   }
  }
 ],
 "metadata": {
  "kernelspec": {
   "name": "python38264bit5c21451e1d864d53a27be528a149d476",
   "language": "python",
   "display_name": "Python 3.8.2 64-bit"
  },
  "language_info": {
   "codemirror_mode": {
    "name": "ipython",
    "version": 2
   },
   "file_extension": ".py",
   "mimetype": "text/x-python",
   "name": "python",
   "nbconvert_exporter": "python",
   "pygments_lexer": "ipython2",
   "version": "2.7.6"
  }
 },
 "nbformat": 4,
 "nbformat_minor": 0
}