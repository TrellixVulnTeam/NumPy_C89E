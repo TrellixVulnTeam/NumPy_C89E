{
 "cells": [
  {
   "cell_type": "code",
   "execution_count": 2,
   "metadata": {
    "collapsed": true
   },
   "outputs": [],
   "source": [
    "import numpy as np"
   ]
  },
  {
   "cell_type": "code",
   "execution_count": null,
   "outputs": [],
   "source": [
    "# How to convert 1 D array to 2 D array ?\n",
    "## Functions: np.newaxis, np.expand_dims\n",
    "a = np.array([1,2,3,4,5,6])\n",
    "print(a)\n",
    "print(a.shape)\n"
   ],
   "metadata": {
    "collapsed": false,
    "pycharm": {
     "name": "#%%\n"
    }
   }
  },
  {
   "cell_type": "code",
   "execution_count": 10,
   "outputs": [
    {
     "name": "stdout",
     "output_type": "stream",
     "text": [
      "[1 2 3 4 5 6]\n",
      "(6,)\n",
      "[[1 2 3 4 5 6]]\n",
      "(1, 6)\n",
      "(1, 6)\n",
      "(6, 1)\n"
     ]
    }
   ],
   "source": [
    "## Using np.newaxis\n",
    "a2 = a[np.newaxis, :]\n",
    "print(a2)\n",
    "print(a2.shape)\n",
    "\n",
    "### Customization: Using np.newaxis for row_vector and col_vector\n",
    "row_vector = a[np.newaxis, :]\n",
    "print(row_vector.shape)\n",
    "col_vector = a[:, np.newaxis]\n",
    "print(col_vector.shape)"
   ],
   "metadata": {
    "collapsed": false,
    "pycharm": {
     "name": "#%%\n"
    }
   }
  },
  {
   "cell_type": "code",
   "execution_count": 13,
   "outputs": [
    {
     "name": "stdout",
     "output_type": "stream",
     "text": [
      "(6, 1)\n",
      "(1, 6)\n"
     ]
    }
   ],
   "source": [
    "## Using np.expand_dims - To add an axis at index position 1.\n",
    "b = np.expand_dims(a, axis=1)\n",
    "print(b.shape)\n",
    "c = np.expand_dims(a, axis=0)\n",
    "print(c.shape)"
   ],
   "metadata": {
    "collapsed": false,
    "pycharm": {
     "name": "#%%\n"
    }
   }
  }
 ],
 "metadata": {
  "kernelspec": {
   "name": "python38264bit5c21451e1d864d53a27be528a149d476",
   "language": "python",
   "display_name": "Python 3.8.2 64-bit"
  },
  "language_info": {
   "codemirror_mode": {
    "name": "ipython",
    "version": 2
   },
   "file_extension": ".py",
   "mimetype": "text/x-python",
   "name": "python",
   "nbconvert_exporter": "python",
   "pygments_lexer": "ipython2",
   "version": "2.7.6"
  }
 },
 "nbformat": 4,
 "nbformat_minor": 0
}